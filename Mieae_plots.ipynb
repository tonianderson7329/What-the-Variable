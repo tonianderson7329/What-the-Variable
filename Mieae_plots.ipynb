{
 "cells": [
  {
   "cell_type": "code",
   "execution_count": null,
   "metadata": {},
   "outputs": [],
   "source": [
    "# Import dependencies\n",
    "import numpy as np\n",
    "import pandas as pd\n",
    "import matplotlib.pyplot as plt\n",
    "import seaborn as sns"
   ]
  },
  {
   "cell_type": "code",
   "execution_count": null,
   "metadata": {},
   "outputs": [],
   "source": [
    "data_csv = \"clean_data.csv\"\n",
    "data_df = pd.read_csv(data_csv)\n",
    "data_df.head()"
   ]
  },
  {
   "cell_type": "code",
   "execution_count": null,
   "metadata": {},
   "outputs": [],
   "source": [
    "data_df['General Health'].value_counts()\n",
    "\n",
    "# Labels for values\n",
    "data_df[\"General Health Category\"] = data_df[\"General Health\"].map(lambda x: \n",
    "                                                 \"1 Poor\" if x == 1 else \n",
    "                                                 (\"2 Fair\" if x == 2 else\n",
    "                                                  (\"3 Good\" if x == 3 else\n",
    "                                                   (\"4 Very Good\" if x == 4 else\n",
    "                                                    ( \"5 Excellent\")))))\n",
    "\n",
    "data_df[\"Fruit & Veg Servings\"] = data_df[\"Eaten Fruits or Veggies Yesterday\"].map(lambda x: \n",
    "                                                 \"None\" if x == 1 else \n",
    "                                                 (\"1-4 servings\" if x == 2 else\n",
    "                                                  (\">=5 servings\")))\n",
    "\n",
    "data_df[\"Exercise Y/N\"] = data_df[\"Exercise\"].map(lambda x: \"No\" if x == 0 else \"Yes\")\n",
    "\n",
    "data_df[\"Gender\"] = data_df[\"Sex\"].map(lambda x: \"Female\" if x == 0 else \"Male\")\n",
    "\n",
    "data_df[\"Age Category\"] = data_df[\"Age Group\"].map(lambda x: \n",
    "                                                 \"18-24yrs\" if x == 1 else \n",
    "                                                 (\"25-29 yrs\" if x == 2 else\n",
    "                                                  (\"30-44 yrs\" if x == 3 else\n",
    "                                                   (\"45-64 yrs\" if x == 4 else\n",
    "                                                    (\"65+ yrs\")))))\n",
    "\n",
    "data_df = data_df.sort_values('General Health',ascending=True)\n",
    "data_df.head()"
   ]
  },
  {
   "cell_type": "code",
   "execution_count": null,
   "metadata": {},
   "outputs": [],
   "source": [
    "gender_count = data_df[\"Gender\"].value_counts()\n",
    "print(gender_count)\n",
    "diet_count = data_df[\"Fruit & Veg Servings\"].count()\n",
    "print(diet_count)\n",
    "workout_count = data_df[\"Exercise Y/N\"].value_counts()\n",
    "print(workout_count)\n",
    "age_count = data_df[\"Age Category\"].value_counts()\n",
    "print(age_count)"
   ]
  },
  {
   "cell_type": "code",
   "execution_count": null,
   "metadata": {},
   "outputs": [],
   "source": [
    "sns.set(style=\"darkgrid\")\n",
    "flatui = [\"#9b59b6\", \"#3498db\",\"#2ecc71\"]\n",
    "sns.countplot(x=\"General Health Category\", hue=\"Fruit & Veg Servings\",data=data_df,palette=flatui,hue_order=[\"None\",\"1-4 servings\",\">=5 servings\"]).set_title(\"General Health by Diet\\nTotal: 7,913\")\n",
    "plt.savefig(\"fruitveggie.png\")"
   ]
  },
  {
   "cell_type": "code",
   "execution_count": null,
   "metadata": {},
   "outputs": [],
   "source": [
    "grouped_gender = data_df.groupby(['General Health Category','Exercise Y/N'])['General Health Category'].count().unstack('Exercise Y/N')\n",
    "grouped_gender[['Yes','No']].plot(kind='bar',edgecolor=\"black\",stacked=True)\n",
    "\n",
    "plt.ylabel(\"Count\")\n",
    "plt.title(\"General Health by Exercise\\nExercise: 6,019 & No Exercise: 1,894\")\n",
    "plt.legend (loc = \"upper right\")\n",
    "plt.xticks(rotation=0)\n",
    "plt.show()\n",
    "plt.savefig(\"exercisestack.png\")"
   ]
  },
  {
   "cell_type": "code",
   "execution_count": null,
   "metadata": {},
   "outputs": [],
   "source": [
    "sns.countplot(x=\"General Health Category\", hue=\"Exercise Y/N\", data=data_df).set_title(\"General Health by Exercise\\nExercise: 6,019 & No Exercise: 1,894\")\n",
    "plt.savefig(\"exercisesbs.png\")"
   ]
  },
  {
   "cell_type": "code",
   "execution_count": null,
   "metadata": {},
   "outputs": [],
   "source": [
    "bars = (\"Excellent\",\"Very Good\",\"Good\",\"Fair\",\"Poor\")\n",
    "\n",
    "grouped_gender = data_df.groupby(['General Health Category','Gender'])['General Health Category'].count().unstack('Gender')\n",
    "grouped_gender[['Male','Female']].plot(kind='bar',edgecolor=\"white\",stacked=True)\n",
    "                                                        \n",
    "plt.ylabel(\"Count\")\n",
    "plt.title(\"General Health by Gender\\nFemale: 4,550 & Male 3,363\")\n",
    "plt.legend (loc = \"upper right\")\n",
    "plt.xticks(rotation=0)\n",
    "plt.show()\n",
    "plt.savefig(\"genderstack.png\")"
   ]
  },
  {
   "cell_type": "code",
   "execution_count": null,
   "metadata": {},
   "outputs": [],
   "source": [
    "sns.countplot(x=\"General Health Category\", hue=\"Gender\",palette=\"muted\", data=data_df).set_title(\"General Health by Gender\\nFemale: 4,550 & Male 3,363\")\n",
    "plt.savefig(\"gendersbs.png\")"
   ]
  },
  {
   "cell_type": "code",
   "execution_count": null,
   "metadata": {},
   "outputs": [],
   "source": [
    "#Create a dataframe for each sex\n",
    "male = data_df[data_df[\"Sex\"] == 1]\n",
    "female = data_df[data_df[\"Sex\"] == 0]"
   ]
  },
  {
   "cell_type": "code",
   "execution_count": null,
   "metadata": {},
   "outputs": [],
   "source": [
    "m_count = male[\"Age Category\"].value_counts()\n",
    "print(m_count)\n",
    "f_count = female[\"Age Category\"].value_counts()\n",
    "print(f_count)"
   ]
  },
  {
   "cell_type": "code",
   "execution_count": null,
   "metadata": {},
   "outputs": [],
   "source": [
    "m_count = male[\"Gender\"].value_counts()\n",
    "print(m_count)\n",
    "f_count = female[\"Gender\"].value_counts()\n",
    "print(f_count)"
   ]
  },
  {
   "cell_type": "code",
   "execution_count": null,
   "metadata": {},
   "outputs": [],
   "source": [
    "#General Health of Males by Age Group\n",
    "group_male = male.groupby(['General Health Category','Age Category'])['General Health Category'].count().unstack('Age Category')\n",
    "group_male[['18-24yrs','25-29 yrs','30-44 yrs','45-64 yrs','65+ yrs']].plot(kind=\"bar\")\n",
    "\n",
    "plt.ylabel(\"Count\")\n",
    "plt.title(\"General Health of Males by Age Group\")\n",
    "plt.xticks(rotation=0)\n",
    "plt.ylim(0,600)\n",
    "plt.savefig(\"malesbyage.png\")\n",
    "plt.show()"
   ]
  },
  {
   "cell_type": "code",
   "execution_count": null,
   "metadata": {},
   "outputs": [],
   "source": [
    "#General Health of Males by Age Group\n",
    "group_male = male.groupby(['Age Category','General Health Category'])['Age Category'].count().unstack('General Health Category')\n",
    "group_male[['1 Poor','2 Fair','3 Good','4 Very Good','5 Excellent']].plot(kind=\"bar\")\n",
    "\n",
    "plt.ylabel(\"Count\")\n",
    "plt.title(\"General Health of Males by Age Group\")\n",
    "plt.xticks(rotation=0)\n",
    "plt.ylim(0,600)\n",
    "plt.savefig(\"malesbyage2.png\")\n",
    "plt.show()"
   ]
  },
  {
   "cell_type": "code",
   "execution_count": null,
   "metadata": {},
   "outputs": [],
   "source": [
    "#General Health of Females by Age Group\n",
    "\n",
    "group_female = female.groupby(['General Health Category','Age Category'])['General Health Category'].count().unstack('Age Category')\n",
    "group_female[['18-24yrs','25-29 yrs','30-44 yrs','45-64 yrs','65+ yrs']].plot(kind=\"bar\")\n",
    "\n",
    "plt.ylabel(\"Count\")\n",
    "plt.title(\"General Health of Females by Age Group\")\n",
    "plt.xticks(rotation=0)\n",
    "plt.ylim(0,600)\n",
    "plt.savefig(\"femalebyage.png\")\n",
    "plt.show()"
   ]
  },
  {
   "cell_type": "code",
   "execution_count": null,
   "metadata": {},
   "outputs": [],
   "source": [
    "#General Health of Females by Age Group\n",
    "group_female = female.groupby(['Age Category','General Health Category'])['Age Category'].count().unstack('General Health Category')\n",
    "group_female[['1 Poor','2 Fair','3 Good','4 Very Good','5 Excellent']].plot(kind=\"bar\")\n",
    "#group_female = female.groupby(['Age Category'])\n",
    "\n",
    "plt.ylabel(\"Count\")\n",
    "plt.title(\"General Health of Females by Age Group\")\n",
    "plt.xticks(rotation=0)\n",
    "plt.ylim(0,600)\n",
    "plt.savefig(\"femalebyage2.png\")\n",
    "plt.show()"
   ]
  },
  {
   "cell_type": "code",
   "execution_count": null,
   "metadata": {},
   "outputs": [],
   "source": []
  },
  {
   "cell_type": "code",
   "execution_count": null,
   "metadata": {},
   "outputs": [],
   "source": []
  },
  {
   "cell_type": "code",
   "execution_count": null,
   "metadata": {},
   "outputs": [],
   "source": []
  },
  {
   "cell_type": "code",
   "execution_count": null,
   "metadata": {},
   "outputs": [],
   "source": []
  }
 ],
 "metadata": {
  "kernelspec": {
   "display_name": "Python 3",
   "language": "python",
   "name": "python3"
  },
  "language_info": {
   "codemirror_mode": {
    "name": "ipython",
    "version": 3
   },
   "file_extension": ".py",
   "mimetype": "text/x-python",
   "name": "python",
   "nbconvert_exporter": "python",
   "pygments_lexer": "ipython3",
   "version": "3.6.4"
  }
 },
 "nbformat": 4,
 "nbformat_minor": 2
}
