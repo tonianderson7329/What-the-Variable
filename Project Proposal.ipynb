{
 "cells": [
  {
   "cell_type": "code",
   "execution_count": null,
   "metadata": {},
   "outputs": [],
   "source": [
    "# The Good, the Bad, & the Ugly of New York Health\n",
    "\n",
    "## Team Members\n",
    "* Toni Anderson\n",
    "* Alex Schackmuth\n",
    "* Mieae Yun\n",
    "\n",
    "## Research Questions to Answer\n",
    "### How does environmental & lifestyle influence health state?\n",
    "\n",
    "## Project Description/Outline\n",
    "![](health.PNG)\n",
    "#### Examining the influences of neighborhood proverty rates, insurance coverage, exercise and nutrition.  \n",
    "#### The dependant variable is health state, and the values are excellent, very good, good, fair, & poor,\n",
    "#### Controlling for age, sex, and race. \n",
    "\n",
    "## Data Sets to be Used\n",
    "#### 2013 Community Health Survey\n",
    "\n",
    "## Rough Breakdown of Tasks"
   ]
  },
  {
   "cell_type": "code",
   "execution_count": null,
   "metadata": {},
   "outputs": [],
   "source": []
  }
 ],
 "metadata": {
  "kernelspec": {
   "display_name": "Python 3",
   "language": "python",
   "name": "python3"
  },
  "language_info": {
   "codemirror_mode": {
    "name": "ipython",
    "version": 3
   },
   "file_extension": ".py",
   "mimetype": "text/x-python",
   "name": "python",
   "nbconvert_exporter": "python",
   "pygments_lexer": "ipython3",
   "version": "3.6.4"
  }
 },
 "nbformat": 4,
 "nbformat_minor": 2
}
