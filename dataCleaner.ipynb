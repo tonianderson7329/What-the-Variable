{
 "cells": [
  {
   "cell_type": "code",
   "execution_count": 1,
   "metadata": {},
   "outputs": [],
   "source": [
    "import matplotlib.pyplot as plt\n",
    "import pandas as pd\n",
    "import numpy as np\n",
    "import os\n",
    "import scipy.stats as stats"
   ]
  },
  {
   "cell_type": "code",
   "execution_count": 2,
   "metadata": {},
   "outputs": [],
   "source": [
    "csvpath = os.path.join(\"data\", \"ny_chs_2013.csv\")\n",
    "ny_chs_df = pd.read_csv(csvpath)\n",
    "#ny_chs_df.head()"
   ]
  },
  {
   "cell_type": "code",
   "execution_count": 3,
   "metadata": {},
   "outputs": [],
   "source": [
    "truncated_df = ny_chs_df.loc[:, [\"generalhealth\", \"insured\", \"neighpovgroup4_0812\",\n",
    "                                    \"exercise13\", \"fruitveg\", \"agegroup5\", \"sex\", \"newrace\",\"education\"]]\n",
    "#truncated_df.head()"
   ]
  },
  {
   "cell_type": "code",
   "execution_count": 4,
   "metadata": {},
   "outputs": [
    {
     "data": {
      "text/plain": [
       "good         2838\n",
       "very good    2151\n",
       "excellent    1551\n",
       "fair         1459\n",
       "poor          644\n",
       "Name: generalhealth, dtype: int64"
      ]
     },
     "execution_count": 4,
     "metadata": {},
     "output_type": "execute_result"
    }
   ],
   "source": [
    "truncated_df[\"generalhealth\"].value_counts()"
   ]
  },
  {
   "cell_type": "code",
   "execution_count": 5,
   "metadata": {},
   "outputs": [],
   "source": [
    "cleanup_health = {\"generalhealth\": {\"excellent\": 5, \"very good\": 4, \"good\": 3, \"fair\": 2, \"poor\": 1}\n",
    "                 }"
   ]
  },
  {
   "cell_type": "code",
   "execution_count": 6,
   "metadata": {},
   "outputs": [],
   "source": [
    "truncated_df.replace(cleanup_health, inplace=True)\n",
    "#truncated_df.head()"
   ]
  },
  {
   "cell_type": "code",
   "execution_count": 7,
   "metadata": {},
   "outputs": [],
   "source": [
    "# NaN was set as a string so this method was ineffective\n",
    "#truncated_df.dropna(how='any')\n",
    "#truncated_df.count()"
   ]
  },
  {
   "cell_type": "code",
   "execution_count": 8,
   "metadata": {},
   "outputs": [
    {
     "data": {
      "text/plain": [
       "generalhealth          8008\n",
       "insured                8008\n",
       "neighpovgroup4_0812    8008\n",
       "exercise13             8008\n",
       "fruitveg               8008\n",
       "agegroup5              8008\n",
       "sex                    8008\n",
       "newrace                8008\n",
       "education              8008\n",
       "dtype: int64"
      ]
     },
     "execution_count": 8,
     "metadata": {},
     "output_type": "execute_result"
    }
   ],
   "source": [
    "truncated_df = truncated_df[~truncated_df.isin(['NaN']).any(axis=1)]\n",
    "truncated_df.count()"
   ]
  },
  {
   "cell_type": "code",
   "execution_count": 9,
   "metadata": {},
   "outputs": [
    {
     "data": {
      "text/html": [
       "<div>\n",
       "<style scoped>\n",
       "    .dataframe tbody tr th:only-of-type {\n",
       "        vertical-align: middle;\n",
       "    }\n",
       "\n",
       "    .dataframe tbody tr th {\n",
       "        vertical-align: top;\n",
       "    }\n",
       "\n",
       "    .dataframe thead th {\n",
       "        text-align: right;\n",
       "    }\n",
       "</style>\n",
       "<table border=\"1\" class=\"dataframe\">\n",
       "  <thead>\n",
       "    <tr style=\"text-align: right;\">\n",
       "      <th></th>\n",
       "      <th>generalhealth</th>\n",
       "      <th>neighpovgroup4_0812</th>\n",
       "      <th>fruitveg</th>\n",
       "      <th>agegroup5</th>\n",
       "      <th>newrace</th>\n",
       "      <th>education</th>\n",
       "      <th>Insured</th>\n",
       "      <th>Exercise</th>\n",
       "      <th>Sex</th>\n",
       "    </tr>\n",
       "  </thead>\n",
       "  <tbody>\n",
       "    <tr>\n",
       "      <th>0</th>\n",
       "      <td>4.0</td>\n",
       "      <td>2.0</td>\n",
       "      <td>2.0</td>\n",
       "      <td>4.0</td>\n",
       "      <td>2</td>\n",
       "      <td>3.0</td>\n",
       "      <td>1.0</td>\n",
       "      <td>1.0</td>\n",
       "      <td>0</td>\n",
       "    </tr>\n",
       "    <tr>\n",
       "      <th>1</th>\n",
       "      <td>4.0</td>\n",
       "      <td>3.0</td>\n",
       "      <td>2.0</td>\n",
       "      <td>2.0</td>\n",
       "      <td>4</td>\n",
       "      <td>2.0</td>\n",
       "      <td>1.0</td>\n",
       "      <td>1.0</td>\n",
       "      <td>0</td>\n",
       "    </tr>\n",
       "    <tr>\n",
       "      <th>2</th>\n",
       "      <td>4.0</td>\n",
       "      <td>2.0</td>\n",
       "      <td>1.0</td>\n",
       "      <td>5.0</td>\n",
       "      <td>1</td>\n",
       "      <td>4.0</td>\n",
       "      <td>1.0</td>\n",
       "      <td>1.0</td>\n",
       "      <td>1</td>\n",
       "    </tr>\n",
       "    <tr>\n",
       "      <th>4</th>\n",
       "      <td>2.0</td>\n",
       "      <td>1.0</td>\n",
       "      <td>2.0</td>\n",
       "      <td>5.0</td>\n",
       "      <td>1</td>\n",
       "      <td>2.0</td>\n",
       "      <td>1.0</td>\n",
       "      <td>1.0</td>\n",
       "      <td>0</td>\n",
       "    </tr>\n",
       "    <tr>\n",
       "      <th>5</th>\n",
       "      <td>3.0</td>\n",
       "      <td>1.0</td>\n",
       "      <td>2.0</td>\n",
       "      <td>4.0</td>\n",
       "      <td>1</td>\n",
       "      <td>4.0</td>\n",
       "      <td>1.0</td>\n",
       "      <td>1.0</td>\n",
       "      <td>0</td>\n",
       "    </tr>\n",
       "  </tbody>\n",
       "</table>\n",
       "</div>"
      ],
      "text/plain": [
       "   generalhealth  neighpovgroup4_0812  fruitveg  agegroup5  newrace  \\\n",
       "0            4.0                  2.0       2.0        4.0        2   \n",
       "1            4.0                  3.0       2.0        2.0        4   \n",
       "2            4.0                  2.0       1.0        5.0        1   \n",
       "4            2.0                  1.0       2.0        5.0        1   \n",
       "5            3.0                  1.0       2.0        4.0        1   \n",
       "\n",
       "   education  Insured  Exercise  Sex  \n",
       "0        3.0      1.0       1.0    0  \n",
       "1        2.0      1.0       1.0    0  \n",
       "2        4.0      1.0       1.0    1  \n",
       "4        2.0      1.0       1.0    0  \n",
       "5        4.0      1.0       1.0    0  "
      ]
     },
     "execution_count": 9,
     "metadata": {},
     "output_type": "execute_result"
    }
   ],
   "source": [
    "insured_dummy = truncated_df['insured'].replace(2, 0)\n",
    "truncated_df['Insured'] = insured_dummy\n",
    "del truncated_df['insured']\n",
    "exercise_dummy = truncated_df['exercise13'].replace(2, 0)\n",
    "truncated_df['Exercise'] = exercise_dummy\n",
    "del truncated_df['exercise13']\n",
    "sex_dummy = truncated_df['sex'].replace(2, 0)\n",
    "truncated_df['Sex'] = sex_dummy\n",
    "del truncated_df['sex']\n",
    "truncated_df.head()"
   ]
  },
  {
   "cell_type": "code",
   "execution_count": 10,
   "metadata": {},
   "outputs": [],
   "source": [
    "truncated_df = truncated_df.rename(index=str, columns={\"generalhealth\": \"General Health\",\n",
    "                                                      \"neighpovgroup4_0812\": \"(%) of Population Under FPL\",\n",
    "                                                      \"fruitveg\": \"Eaten Fruits or Veggies Yesterday\",\n",
    "                                                      \"agegroup5\": \"Age Group\",\n",
    "                                                      \"newrace\": \"Race\",\n",
    "                                                      \"education\": \"Education\"                                                  \n",
    "                                                     })"
   ]
  },
  {
   "cell_type": "code",
   "execution_count": 11,
   "metadata": {},
   "outputs": [
    {
     "data": {
      "text/html": [
       "<div>\n",
       "<style scoped>\n",
       "    .dataframe tbody tr th:only-of-type {\n",
       "        vertical-align: middle;\n",
       "    }\n",
       "\n",
       "    .dataframe tbody tr th {\n",
       "        vertical-align: top;\n",
       "    }\n",
       "\n",
       "    .dataframe thead th {\n",
       "        text-align: right;\n",
       "    }\n",
       "</style>\n",
       "<table border=\"1\" class=\"dataframe\">\n",
       "  <thead>\n",
       "    <tr style=\"text-align: right;\">\n",
       "      <th></th>\n",
       "      <th>General Health</th>\n",
       "      <th>(%) of Population Under FPL</th>\n",
       "      <th>Eaten Fruits or Veggies Yesterday</th>\n",
       "      <th>Age Group</th>\n",
       "      <th>Race</th>\n",
       "      <th>Education</th>\n",
       "      <th>Insured</th>\n",
       "      <th>Exercise</th>\n",
       "      <th>Sex</th>\n",
       "    </tr>\n",
       "  </thead>\n",
       "  <tbody>\n",
       "    <tr>\n",
       "      <th>0</th>\n",
       "      <td>4.0</td>\n",
       "      <td>2.0</td>\n",
       "      <td>2.0</td>\n",
       "      <td>4.0</td>\n",
       "      <td>2</td>\n",
       "      <td>3.0</td>\n",
       "      <td>1.0</td>\n",
       "      <td>1.0</td>\n",
       "      <td>0</td>\n",
       "    </tr>\n",
       "    <tr>\n",
       "      <th>1</th>\n",
       "      <td>4.0</td>\n",
       "      <td>3.0</td>\n",
       "      <td>2.0</td>\n",
       "      <td>2.0</td>\n",
       "      <td>4</td>\n",
       "      <td>2.0</td>\n",
       "      <td>1.0</td>\n",
       "      <td>1.0</td>\n",
       "      <td>0</td>\n",
       "    </tr>\n",
       "    <tr>\n",
       "      <th>2</th>\n",
       "      <td>4.0</td>\n",
       "      <td>2.0</td>\n",
       "      <td>1.0</td>\n",
       "      <td>5.0</td>\n",
       "      <td>1</td>\n",
       "      <td>4.0</td>\n",
       "      <td>1.0</td>\n",
       "      <td>1.0</td>\n",
       "      <td>1</td>\n",
       "    </tr>\n",
       "    <tr>\n",
       "      <th>4</th>\n",
       "      <td>2.0</td>\n",
       "      <td>1.0</td>\n",
       "      <td>2.0</td>\n",
       "      <td>5.0</td>\n",
       "      <td>1</td>\n",
       "      <td>2.0</td>\n",
       "      <td>1.0</td>\n",
       "      <td>1.0</td>\n",
       "      <td>0</td>\n",
       "    </tr>\n",
       "    <tr>\n",
       "      <th>5</th>\n",
       "      <td>3.0</td>\n",
       "      <td>1.0</td>\n",
       "      <td>2.0</td>\n",
       "      <td>4.0</td>\n",
       "      <td>1</td>\n",
       "      <td>4.0</td>\n",
       "      <td>1.0</td>\n",
       "      <td>1.0</td>\n",
       "      <td>0</td>\n",
       "    </tr>\n",
       "  </tbody>\n",
       "</table>\n",
       "</div>"
      ],
      "text/plain": [
       "   General Health  (%) of Population Under FPL  \\\n",
       "0             4.0                          2.0   \n",
       "1             4.0                          3.0   \n",
       "2             4.0                          2.0   \n",
       "4             2.0                          1.0   \n",
       "5             3.0                          1.0   \n",
       "\n",
       "   Eaten Fruits or Veggies Yesterday  Age Group  Race  Education  Insured  \\\n",
       "0                                2.0        4.0     2        3.0      1.0   \n",
       "1                                2.0        2.0     4        2.0      1.0   \n",
       "2                                1.0        5.0     1        4.0      1.0   \n",
       "4                                2.0        5.0     1        2.0      1.0   \n",
       "5                                2.0        4.0     1        4.0      1.0   \n",
       "\n",
       "   Exercise  Sex  \n",
       "0       1.0    0  \n",
       "1       1.0    0  \n",
       "2       1.0    1  \n",
       "4       1.0    0  \n",
       "5       1.0    0  "
      ]
     },
     "execution_count": 11,
     "metadata": {},
     "output_type": "execute_result"
    }
   ],
   "source": [
    "truncated_df.head()"
   ]
  },
  {
   "cell_type": "code",
   "execution_count": 12,
   "metadata": {},
   "outputs": [],
   "source": [
    "clean_csv = os.path.join(\"data\", \"clean_data.csv\")\n",
    "truncated_df.to_csv(clean_csv)"
   ]
  },
  {
   "cell_type": "code",
   "execution_count": null,
   "metadata": {},
   "outputs": [],
   "source": []
  },
  {
   "cell_type": "code",
   "execution_count": null,
   "metadata": {},
   "outputs": [],
   "source": []
  }
 ],
 "metadata": {
  "kernelspec": {
   "display_name": "Python 3",
   "language": "python",
   "name": "python3"
  },
  "language_info": {
   "codemirror_mode": {
    "name": "ipython",
    "version": 3
   },
   "file_extension": ".py",
   "mimetype": "text/x-python",
   "name": "python",
   "nbconvert_exporter": "python",
   "pygments_lexer": "ipython3",
   "version": "3.6.4"
  }
 },
 "nbformat": 4,
 "nbformat_minor": 2
}
