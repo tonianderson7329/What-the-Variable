{
 "cells": [
  {
   "cell_type": "markdown",
   "metadata": {},
   "source": [
    "### Data Cleaner"
   ]
  },
  {
   "cell_type": "code",
   "execution_count": 38,
   "metadata": {},
   "outputs": [],
   "source": [
    "import matplotlib.pyplot as plt\n",
    "import pandas as pd\n",
    "import numpy as np\n",
    "import os"
   ]
  },
  {
   "cell_type": "markdown",
   "metadata": {},
   "source": [
    "* Import csv"
   ]
  },
  {
   "cell_type": "code",
   "execution_count": 39,
   "metadata": {},
   "outputs": [],
   "source": [
    "csvpath = os.path.join(\"data\", \"ny_chs_2013.csv\")\n",
    "ny_chs_df = pd.read_csv(csvpath)\n",
    "#ny_chs_df.head()"
   ]
  },
  {
   "cell_type": "markdown",
   "metadata": {},
   "source": [
    "* Make new data frame with selected variables"
   ]
  },
  {
   "cell_type": "code",
   "execution_count": 40,
   "metadata": {},
   "outputs": [],
   "source": [
    "truncated_df = ny_chs_df.loc[:, [\"generalhealth\", \"insured\", \"neighpovgroup4_0812\",\n",
    "                                    \"exercise13\", \"fruitveg\", \"agegroup5\", \"sex\", \"newrace\",\"education\", \"smoker\", \"drinker\"]]\n",
    "#truncated_df.head()"
   ]
  },
  {
   "cell_type": "code",
   "execution_count": 41,
   "metadata": {},
   "outputs": [
    {
     "data": {
      "text/plain": [
       "good         2838\n",
       "very good    2151\n",
       "excellent    1551\n",
       "fair         1459\n",
       "poor          644\n",
       "Name: generalhealth, dtype: int64"
      ]
     },
     "execution_count": 41,
     "metadata": {},
     "output_type": "execute_result"
    }
   ],
   "source": [
    "truncated_df[\"generalhealth\"].value_counts()"
   ]
  },
  {
   "cell_type": "markdown",
   "metadata": {},
   "source": [
    "* Create numerical values for DV"
   ]
  },
  {
   "cell_type": "code",
   "execution_count": 42,
   "metadata": {},
   "outputs": [],
   "source": [
    "cleanup_health = {\"generalhealth\": {\"excellent\": 5, \"very good\": 4, \"good\": 3, \"fair\": 2, \"poor\": 1}\n",
    "                 }"
   ]
  },
  {
   "cell_type": "code",
   "execution_count": 43,
   "metadata": {},
   "outputs": [],
   "source": [
    "truncated_df.replace(cleanup_health, inplace=True)\n",
    "#truncated_df.head()"
   ]
  },
  {
   "cell_type": "markdown",
   "metadata": {},
   "source": [
    "* Drop any sample with a missing value"
   ]
  },
  {
   "cell_type": "code",
   "execution_count": 45,
   "metadata": {},
   "outputs": [
    {
     "data": {
      "text/plain": [
       "generalhealth          7913\n",
       "insured                7913\n",
       "neighpovgroup4_0812    7913\n",
       "exercise13             7913\n",
       "fruitveg               7913\n",
       "agegroup5              7913\n",
       "sex                    7913\n",
       "newrace                7913\n",
       "education              7913\n",
       "smoker                 7913\n",
       "drinker                7913\n",
       "dtype: int64"
      ]
     },
     "execution_count": 45,
     "metadata": {},
     "output_type": "execute_result"
    }
   ],
   "source": [
    "truncated_df = truncated_df[~truncated_df.isin(['NaN']).any(axis=1)]\n",
    "truncated_df.count()"
   ]
  },
  {
   "cell_type": "markdown",
   "metadata": {},
   "source": [
    "* Create dummy variables"
   ]
  },
  {
   "cell_type": "code",
   "execution_count": 46,
   "metadata": {},
   "outputs": [],
   "source": [
    "insured_dummy = truncated_df['insured'].replace(2, 0)\n",
    "truncated_df['Insured'] = insured_dummy\n",
    "del truncated_df['insured']\n",
    "exercise_dummy = truncated_df['exercise13'].replace(2, 0)\n",
    "truncated_df['Exercise'] = exercise_dummy\n",
    "del truncated_df['exercise13']\n",
    "sex_dummy = truncated_df['sex'].replace(2, 0)\n",
    "truncated_df['Sex'] = sex_dummy\n",
    "del truncated_df['sex']\n",
    "truncated_df.head()\n",
    "\n",
    "# New variables for smoking and drinking\n",
    "drinker_dummy = truncated_df['drinker'].replace(2, 0)\n",
    "truncated_df['Drinker'] = drinker_dummy\n",
    "del truncated_df['drinker']\n",
    "smoker_dummy = truncated_df['smoker'].replace(2, 0)\n",
    "truncated_df['Smoker'] = drinker_dummy\n",
    "del truncated_df['smoker']"
   ]
  },
  {
   "cell_type": "markdown",
   "metadata": {},
   "source": [
    "* Rename columns"
   ]
  },
  {
   "cell_type": "code",
   "execution_count": 47,
   "metadata": {},
   "outputs": [],
   "source": [
    "truncated_df = truncated_df.rename(index=str, columns={\"generalhealth\": \"General Health\",\n",
    "                                                      \"neighpovgroup4_0812\": \"(%) of Population Under FPL\",\n",
    "                                                      \"fruitveg\": \"Eaten Fruits or Veggies Yesterday\",\n",
    "                                                      \"agegroup5\": \"Age Group\",\n",
    "                                                      \"newrace\": \"Race\",\n",
    "                                                      \"education\": \"Education\"                                                  \n",
    "                                                     })"
   ]
  },
  {
   "cell_type": "code",
   "execution_count": 48,
   "metadata": {},
   "outputs": [
    {
     "data": {
      "text/html": [
       "<div>\n",
       "<style scoped>\n",
       "    .dataframe tbody tr th:only-of-type {\n",
       "        vertical-align: middle;\n",
       "    }\n",
       "\n",
       "    .dataframe tbody tr th {\n",
       "        vertical-align: top;\n",
       "    }\n",
       "\n",
       "    .dataframe thead th {\n",
       "        text-align: right;\n",
       "    }\n",
       "</style>\n",
       "<table border=\"1\" class=\"dataframe\">\n",
       "  <thead>\n",
       "    <tr style=\"text-align: right;\">\n",
       "      <th></th>\n",
       "      <th>General Health</th>\n",
       "      <th>(%) of Population Under FPL</th>\n",
       "      <th>Eaten Fruits or Veggies Yesterday</th>\n",
       "      <th>Age Group</th>\n",
       "      <th>Race</th>\n",
       "      <th>Education</th>\n",
       "      <th>Insured</th>\n",
       "      <th>Exercise</th>\n",
       "      <th>Sex</th>\n",
       "      <th>Drinker</th>\n",
       "      <th>Smoker</th>\n",
       "    </tr>\n",
       "  </thead>\n",
       "  <tbody>\n",
       "    <tr>\n",
       "      <th>0</th>\n",
       "      <td>4.0</td>\n",
       "      <td>2.0</td>\n",
       "      <td>2.0</td>\n",
       "      <td>4.0</td>\n",
       "      <td>2</td>\n",
       "      <td>3.0</td>\n",
       "      <td>1.0</td>\n",
       "      <td>1.0</td>\n",
       "      <td>0</td>\n",
       "      <td>0.0</td>\n",
       "      <td>0.0</td>\n",
       "    </tr>\n",
       "    <tr>\n",
       "      <th>1</th>\n",
       "      <td>4.0</td>\n",
       "      <td>3.0</td>\n",
       "      <td>2.0</td>\n",
       "      <td>2.0</td>\n",
       "      <td>4</td>\n",
       "      <td>2.0</td>\n",
       "      <td>1.0</td>\n",
       "      <td>1.0</td>\n",
       "      <td>0</td>\n",
       "      <td>0.0</td>\n",
       "      <td>0.0</td>\n",
       "    </tr>\n",
       "    <tr>\n",
       "      <th>2</th>\n",
       "      <td>4.0</td>\n",
       "      <td>2.0</td>\n",
       "      <td>1.0</td>\n",
       "      <td>5.0</td>\n",
       "      <td>1</td>\n",
       "      <td>4.0</td>\n",
       "      <td>1.0</td>\n",
       "      <td>1.0</td>\n",
       "      <td>1</td>\n",
       "      <td>1.0</td>\n",
       "      <td>1.0</td>\n",
       "    </tr>\n",
       "    <tr>\n",
       "      <th>4</th>\n",
       "      <td>2.0</td>\n",
       "      <td>1.0</td>\n",
       "      <td>2.0</td>\n",
       "      <td>5.0</td>\n",
       "      <td>1</td>\n",
       "      <td>2.0</td>\n",
       "      <td>1.0</td>\n",
       "      <td>1.0</td>\n",
       "      <td>0</td>\n",
       "      <td>0.0</td>\n",
       "      <td>0.0</td>\n",
       "    </tr>\n",
       "    <tr>\n",
       "      <th>5</th>\n",
       "      <td>3.0</td>\n",
       "      <td>1.0</td>\n",
       "      <td>2.0</td>\n",
       "      <td>4.0</td>\n",
       "      <td>1</td>\n",
       "      <td>4.0</td>\n",
       "      <td>1.0</td>\n",
       "      <td>1.0</td>\n",
       "      <td>0</td>\n",
       "      <td>1.0</td>\n",
       "      <td>1.0</td>\n",
       "    </tr>\n",
       "  </tbody>\n",
       "</table>\n",
       "</div>"
      ],
      "text/plain": [
       "   General Health  (%) of Population Under FPL  \\\n",
       "0             4.0                          2.0   \n",
       "1             4.0                          3.0   \n",
       "2             4.0                          2.0   \n",
       "4             2.0                          1.0   \n",
       "5             3.0                          1.0   \n",
       "\n",
       "   Eaten Fruits or Veggies Yesterday  Age Group  Race  Education  Insured  \\\n",
       "0                                2.0        4.0     2        3.0      1.0   \n",
       "1                                2.0        2.0     4        2.0      1.0   \n",
       "2                                1.0        5.0     1        4.0      1.0   \n",
       "4                                2.0        5.0     1        2.0      1.0   \n",
       "5                                2.0        4.0     1        4.0      1.0   \n",
       "\n",
       "   Exercise  Sex  Drinker  Smoker  \n",
       "0       1.0    0      0.0     0.0  \n",
       "1       1.0    0      0.0     0.0  \n",
       "2       1.0    1      1.0     1.0  \n",
       "4       1.0    0      0.0     0.0  \n",
       "5       1.0    0      1.0     1.0  "
      ]
     },
     "execution_count": 48,
     "metadata": {},
     "output_type": "execute_result"
    }
   ],
   "source": [
    "truncated_df.head()"
   ]
  },
  {
   "cell_type": "markdown",
   "metadata": {},
   "source": [
    "* Write new csv of clean data"
   ]
  },
  {
   "cell_type": "code",
   "execution_count": 49,
   "metadata": {},
   "outputs": [],
   "source": [
    "clean_csv = os.path.join(\"data\", \"clean_data.csv\")\n",
    "truncated_df.to_csv(clean_csv)"
   ]
  },
  {
   "cell_type": "code",
   "execution_count": null,
   "metadata": {},
   "outputs": [],
   "source": []
  },
  {
   "cell_type": "code",
   "execution_count": null,
   "metadata": {},
   "outputs": [],
   "source": []
  }
 ],
 "metadata": {
  "kernelspec": {
   "display_name": "Python 3",
   "language": "python",
   "name": "python3"
  },
  "language_info": {
   "codemirror_mode": {
    "name": "ipython",
    "version": 3
   },
   "file_extension": ".py",
   "mimetype": "text/x-python",
   "name": "python",
   "nbconvert_exporter": "python",
   "pygments_lexer": "ipython3",
   "version": "3.6.4"
  }
 },
 "nbformat": 4,
 "nbformat_minor": 2
}
